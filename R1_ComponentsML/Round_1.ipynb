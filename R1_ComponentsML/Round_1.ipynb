{
 "cells": [
  {
   "cell_type": "markdown",
   "metadata": {
    "deletable": false,
    "editable": false,
    "nbgrader": {
     "cell_type": "markdown",
     "checksum": "8185a4638874ac200571b505a603b5f4",
     "grade": false,
     "grade_id": "cell-14ca42026d68eec2",
     "locked": true,
     "schema_version": 3,
     "solution": false,
     "task": false
    }
   },
   "source": [
    "# CS-EJ3211 Machine Learning with Python \n",
    "\n",
    "## Round 1 - Components of Machine Learning\n",
    "**submission deadline 01.02.2021 23:59 Helsinki time**"
   ]
  },
  {
   "cell_type": "markdown",
   "metadata": {
    "deletable": false,
    "editable": false,
    "nbgrader": {
     "cell_type": "markdown",
     "checksum": "1e87538240a0d050533e2495ca7a42d2",
     "grade": false,
     "grade_id": "Introduction",
     "locked": true,
     "schema_version": 3,
     "solution": false
    }
   },
   "source": [
    "<img src=\"../../../coursedata/R1_ComponentsML/AMLProblem.png\" alt=\"Drawing\" style=\"width: 600px;\"/>\n",
    "\n",
    "In general terms, machine learning (ML) is the study and application of methods that enable a computer to learn from data. By applying such methods, we aim to create a model that can make accurate predictions and/or inferences concerning real world phenomena. We might, for example, apply machine learning in an attempt to predict the grade of a cancerous tumour based on histological images or to identify different customer segments in the clientele of a shop.\n",
    "\n",
    "In this round, we will introduce you to the basic concepts of ML and its three essential components, which are as follows:\n",
    "\n",
    "\n",
    "1. **Data** that consists of basic units of information called **data points**. Data points are characterized by **features** and **labels**.\n",
    "\n",
    "\n",
    "2. A **hypothesis space** that contains the set of predictor functions that a ML model can learn. \n",
    "\n",
    "\n",
    "3. A **loss function** that measures the quality of a prediction output by a predictor function.\n",
    "\n",
    "\n",
    "A machine learning model learns by searching the hypothesis space for the predictor function that results in the smallest average loss on the dataset.\n",
    "\n",
    "Alongside the theory, we present some of the basic tools in NumPy, Matplotlib, and Scikit-learn that are useful when doing ML with Python. At the end of this round, you will get to train your (possibly) first ML model related to an example problem."
   ]
  },
  {
   "cell_type": "markdown",
   "metadata": {
    "deletable": false,
    "editable": false,
    "nbgrader": {
     "cell_type": "markdown",
     "checksum": "44eb9daba794d7114bffbda679b7160c",
     "grade": false,
     "grade_id": "cell-ccfc045530551950",
     "locked": true,
     "schema_version": 3,
     "solution": false,
     "task": false
    }
   },
   "source": [
    "## Learning Goals\n",
    "\n",
    "* Learn to make useful definitions for what data points (examples, samples), features, and labels are in different real-life applications. \n",
    "* Learn how to represent data as NumPy arrays, which are used to represent vectors and matrices in Python.   \n",
    "* Learn to use (\"toy\") datasets provided by the Python library `scikit-learn`. \n",
    "* Learn about the concept of hypothesis spaces. \n",
    "* Learn how to fit (linear) prediction functions to data. \n",
    "\n",
    "This notebook contains several student tasks requiring you to write a few lines of Python code to solve small problems. In particular, you have to fill in the gaps marked as **Student Task**."
   ]
  },
  {
   "cell_type": "markdown",
   "metadata": {
    "deletable": false,
    "editable": false,
    "nbgrader": {
     "cell_type": "markdown",
     "checksum": "86168876e4f46bcc8c5ead8db48a3518",
     "grade": false,
     "grade_id": "cell-cce73a5c84faeb0f",
     "locked": true,
     "schema_version": 3,
     "solution": false,
     "task": false
    }
   },
   "source": [
    "## Additional material\n",
    "\n",
    "<b><font size=4>Videos</font></b>\n",
    "\n",
    "* [Data](https://youtu.be/WWYRH3x7_5M), [Hypothesis Space](https://youtu.be/CDcRfak1Mh4), [Hypothesis Space of Linear Models](https://youtu.be/Mch5hmhVuiA), [Hypothesis Space of Decision Trees](https://youtu.be/0FmaLfjAaRE), [Hypothesis Space of Deep Learning](https://youtu.be/im8mweIrpAM),[Loss Functions](https://www.youtube.com/watch?v=Uv9lihDfsBs&t=4s)\n",
    "\n",
    "<b><font size=4>Tutorials</font></b>\n",
    "\n",
    "* components of ML can be found under [this link](https://arxiv.org/pdf/1910.12387.pdf) \n",
    "\n",
    "* Python library `numpy` can be found under [this link](https://hackernoon.com/introduction-to-numpy-1-an-absolute-beginners-guide-to-machine-learning-and-data-science-5d87f13f0d51).\n",
    "\n",
    "* \"Learn the Basics\" and \"Data Science Tutorial\" sections from [this link](https://www.learnpython.org/en/).\n",
    "\n",
    "* a quick refresher for basic properties of matrices can be found under [this link](http://math.mit.edu/~gs/linearalgebra/linearalgebra5_1-3.pdf)\n",
    "and [this link](https://onlinelibrary.wiley.com/doi/pdf/10.1002/9780470549094.app1)\n",
    "\n",
    "* mathematical notation [this link](https://en.wikipedia.org/wiki/List_of_mathematical_symbols)\n",
    "\n"
   ]
  },
  {
   "cell_type": "markdown",
   "metadata": {
    "deletable": false,
    "editable": false,
    "nbgrader": {
     "cell_type": "markdown",
     "checksum": "91fce09a641da32cf53d07a49f136257",
     "grade": false,
     "grade_id": "cell-1c36df378f58e30d",
     "locked": true,
     "schema_version": 3,
     "solution": false,
     "task": false
    }
   },
   "source": [
    "## Data (Features and labels)\n",
    "\n",
    "In machine learning, the goal is to make computers learn mathematical models from **data** that accurately predict or offer insight into the properties of real world phenomena. The data consists of atomic units of information called **data points** that represent individual observations of the phenomena we are inspecting. Each data point is characterized by a list of **features** $\\left(x_1, x_2, \\ldots, x_n \\right)$, which are easily measurable or otherwise obtainable properties of the data points. In addition to features, data points may also have **labels** that represent higher-level information that is of predictive interest. Data that contains both the features and labels of data points is commonly called **labeled data**.\n",
    "\n",
    "ML can *roughly* be divided into **supervised**- and **unsupervised** learning. Supervised learning is applied to problems in which we attempt to predict the label $y$ of data points based on its features, and requires access to a set of labeled data. A supervised ML model uses the labeled data points as examples to learn a predictor function $h(\\mathbf{x})$ that takes the features $\\mathbf{x}$ of a data point as input and outputs a predicted label $\\hat{y} = h(\\mathbf{x})$. The trained model can then be used to predict the labels of data points for which the true labels are unknown.\n",
    "\n",
    "In contrast to supervised methods, unsupervised methods do not require the data to be labeled and are in general used for problems related to the structure and distribution of the data. Examples of unsupervised ML methods are clustering algorithms, which aim to identify different clusters of data points in the dataset, and generative models that are used to generate data (see [cool example](https://www.youtube.com/watch?v=kSLJriaOumA)).\n",
    "\n"
   ]
  },
  {
   "cell_type": "markdown",
   "metadata": {
    "deletable": false,
    "editable": false,
    "nbgrader": {
     "cell_type": "markdown",
     "checksum": "3daaeca6a98ce0270f4cf5477c962234",
     "grade": false,
     "grade_id": "cell-3dc66198ad0cd9df",
     "locked": true,
     "schema_version": 3,
     "solution": false,
     "task": false
    }
   },
   "source": [
    "### Example: Features and Labels "
   ]
  },
  {
   "cell_type": "markdown",
   "metadata": {
    "deletable": false,
    "editable": false,
    "nbgrader": {
     "cell_type": "markdown",
     "checksum": "5e8fe71df1dece33d277e96e3b67422f",
     "grade": false,
     "grade_id": "cell-bdc4fa483bf56aa4",
     "locked": true,
     "schema_version": 3,
     "solution": false,
     "task": false
    }
   },
   "source": [
    "Let us illustrate the main ML terminology using a concrete example. Imagine that we want to build a model for classifying songs according to their genre (such as \"Pop\", \"Blues\" or \"Hip-Hop\"). In this case, the **data points** are songs, with each song corresponding to a specific data point. The data points (=songs) are characterized by the **features** of the data point, which in this case are the city where the song was produced, the length of the song's lyrics, its tempo, and the power spectrum of the audio signal. The quantity of interest or **label** is in this case the genre to which the song belongs to. \n",
    "\n",
    "In order to train a machine learning model to predict the genre (class) of different songs (data points), we need a labeled training dataset consisting of songs for which the genre is known. This dataset can then be used as the input to a supervised ML algorithm, which learns a predictor $h(\\mathbf{x}) = \\hat{\\mathbf{y}}$ that maps the features of a song to a predicted label."
   ]
  },
  {
   "cell_type": "markdown",
   "metadata": {
    "deletable": false,
    "editable": false,
    "nbgrader": {
     "cell_type": "markdown",
     "checksum": "f2371188e6f7ff9189a67172de0cf6f7",
     "grade": false,
     "grade_id": "cell-7218f90089d3bf28",
     "locked": true,
     "schema_version": 3,
     "solution": false,
     "task": false
    }
   },
   "source": [
    "### Representing data as Matrices and Vectors\n",
    "<a id=\"Q1\"></a>\n",
    "\n",
    "In order to simplify the mathematical presentation as well as the technical implementation of machine learning methods, it is useful to represent data using [vectors and matrices](https://en.wikipedia.org/wiki/Matrix_(mathematics)). \n",
    "\n",
    "In the vectorized representation, the features of a data point are stored in a **feature vector** $\\mathbf{x}$, which is a column vector\n",
    "\n",
    "\\begin{equation}\n",
    "    \\mathbf{x}= \\begin{pmatrix}\n",
    "                    x_{1} \\\\ x_{2} \\\\ \\vdots \\\\ x_{n}\n",
    "                \\end{pmatrix} \\in \\mathbb{R}^n\n",
    "\\end{equation}\n",
    "\n",
    "where $x_i, 1 \\leq i \\leq n,$ denotes the value of the $i$:th feature of the data point. Furthermore, we assume that the data points are indexed and denote the feature vector of the $i$:th data point by $\\mathbf{x}^{(i)}, 1 \\leq i \\leq m$.\n",
    "\n",
    "It is customary to store the features of the dataset in a **feature matrix** $\\mathbf{X}$, in which the $i$:th row contains the feature vector of the $i$:th data point:\n",
    "\n",
    "\\begin{equation}\n",
    "  \\mathbf{X} = \\begin{pmatrix}\n",
    "                  \\mathbf{x}^{(1)} & \\mathbf{x}^{(2)} & \\ldots & \\mathbf{x}^{(m)}\n",
    "               \\end{pmatrix}^T \n",
    "             = \\begin{pmatrix}\n",
    "                  x_1^{(1)} & x_2^{(1)} & \\ldots & x_n^{(1)} \\\\\n",
    "                  x_1^{(2)} & x_2^{(2)} & \\ldots & x_n^{(2)} \\\\\n",
    "                  \\vdots & \\vdots & \\ddots & \\vdots \\\\\n",
    "                  x_1^{(m)} & x_2^{(m)} & \\ldots & x_n^{(m)}\n",
    "               \\end{pmatrix} \\in \\mathbb{R}^{m \\times n}\n",
    "\\end{equation}\n",
    "\n",
    "If the data is labeled, we store the labels of the data points in a separate **label vector** $\\mathbf{y}$, which is a column vector where the $i$:th row contains the label of the $i$:th data point:\n",
    "\n",
    "\\begin{equation}\n",
    "  \\mathbf{y} = \\begin{pmatrix}\n",
    "                  y_1 \\\\ y_2 \\\\ \\vdots \\\\ y_m \n",
    "               \\end{pmatrix} \\in \\mathbb{R}^m\n",
    "\\end{equation}\n"
   ]
  },
  {
   "cell_type": "markdown",
   "metadata": {
    "deletable": false,
    "editable": false,
    "nbgrader": {
     "cell_type": "markdown",
     "checksum": "b3bf8ad24f03151ed2c22d48034bbcd4",
     "grade": false,
     "grade_id": "cell-838056aa4c077735",
     "locked": true,
     "schema_version": 3,
     "solution": false,
     "task": false
    }
   },
   "source": [
    "#### Summary of mathematical notation:\n",
    "\n",
    "- $m$ - number of data points\n",
    "- $n$ - number of features\n",
    "- $\\mathbf{X}$       - upper-case bold letters denote a matrix\n",
    "- $\\mathbf{x}$       - lower-case bold letters denote a vector   \n",
    "- $x_{i}$            - $i$:th entry of vector $\\mathbf{x}$\n",
    "- $\\mathbf{x}^{(i)}$ - feature vector of $i$:th data point\n",
    "- $x_{j}^{(i)}$      - $j$:th feature of $i$:th data point\n",
    "- $\\mathbb{R}$       - real numbers\n",
    "- $\\mathbb{R}^{n}$   - [real coordinate space](https://en.wikipedia.org/wiki/Real_coordinate_space) consisting of length-$n$ lists of real numbers \n",
    "- $\\mathbb{R}^{m \\times n}$ - matrices with $m$ rows and $n$ columns of real-valued numbers"
   ]
  },
  {
   "cell_type": "markdown",
   "metadata": {
    "deletable": false,
    "editable": false,
    "nbgrader": {
     "cell_type": "markdown",
     "checksum": "3cdc1106ff2d8732d76386c0ebef1a54",
     "grade": false,
     "grade_id": "cell-88052a0a72f6e870",
     "locked": true,
     "schema_version": 3,
     "solution": false,
     "task": false
    }
   },
   "source": [
    "### Vectors and matrices in NumPy\n",
    "\n",
    "In NumPy, vectors and matrices (and higher dimensional tensors) are represented by `ndarray`:s. An `ndarray` object is an n-dimensional array of shape `(d_1,d_2,...,d_n)`, where `d_i` is the size of the $i$:th dimension of the array. \n",
    "\n",
    "For example, we can represent the label vector $\\mathbf{y}$ as an `ndarray` of shape `(m,1)` and the feature matrix $\\mathbf{X}$ as an `ndarray` of shape `(m,n)`,  where `m` is the number of data points and `n` the number of features.\n",
    "\n",
    "Below, you can see how the data in the song genre example would be represented with matrices and vectors."
   ]
  },
  {
   "cell_type": "markdown",
   "metadata": {
    "deletable": false,
    "editable": false,
    "nbgrader": {
     "cell_type": "markdown",
     "checksum": "77059a6a8a1d786d7a43100ed3a71ce4",
     "grade": false,
     "grade_id": "cell-84616288c85ff525",
     "locked": true,
     "schema_version": 3,
     "solution": false,
     "task": false
    }
   },
   "source": [
    "<img src=\"../../../coursedata/R1_ComponentsML/FeaturesLabels.jpg\" alt=\"Drawing\" style=\"width: 1000px;\"/>\n"
   ]
  },
  {
   "cell_type": "markdown",
   "metadata": {
    "deletable": false,
    "editable": false,
    "nbgrader": {
     "cell_type": "markdown",
     "checksum": "9e555857711a8bbd856786639a65a73c",
     "grade": false,
     "grade_id": "cell-4def3171d7e71aac",
     "locked": true,
     "schema_version": 3,
     "solution": false,
     "task": false
    }
   },
   "source": [
    "<a id='npDataDemo'></a>\n",
    "<div class=\" alert alert-info\">\n",
    "    \n",
    "### Demo. Vectors and matrices in NumPy.  \n",
    "    \n",
    "In the code below, we create a couple of `ndarrays` representing vectors and matrices in NumPy and access parts of these using NumPy indexing. Notice that Python uses 0-based indexing - for example, the element in the first row and second column in a matrix is located at index `[0,1]` in the corresponding `ndarray`.\n",
    "    \n",
    "More information about NumPy can be found in the Round 0 notebook or [this tutorial](https://numpy.org/devdocs/user/absolute_beginners.html).\n",
    "</div>"
   ]
  },
  {
   "cell_type": "code",
   "execution_count": 1,
   "metadata": {
    "deletable": false,
    "editable": false,
    "nbgrader": {
     "cell_type": "code",
     "checksum": "346b4e3e518cd14222b10f475432e03a",
     "grade": false,
     "grade_id": "cell-b1a0eb7153229d61",
     "locked": true,
     "schema_version": 3,
     "solution": false,
     "task": false
    }
   },
   "outputs": [
    {
     "name": "stdout",
     "output_type": "stream",
     "text": [
      "A = \n",
      "[[1 2 3]\n",
      " [4 5 6]]\n",
      "b = \n",
      "[[6]\n",
      " [7]\n",
      " [9]]\n",
      "\n",
      "Shape of A: (2, 3)\n",
      "Shape of b: (3, 1)\n",
      "\n",
      "A_2_1 = 4\n",
      "\n",
      "Second column of A = [2 5]\n",
      "\n",
      "First row of A = [1 2 3]\n",
      "\n",
      "Second and third column of A =\n",
      "[[2 3]\n",
      " [5 6]]\n",
      "\n"
     ]
    }
   ],
   "source": [
    "import numpy as np\n",
    "\n",
    "# Create a matrix A and column vector b\n",
    "A = np.array([[1,2,3],[4,5,6]])\n",
    "b = np.array([[6,7,9]]).T\n",
    "\n",
    "# Print matrices\n",
    "print(f\"A = \\n{A}\")\n",
    "print(f\"b = \\n{b}\\n\")\n",
    "\n",
    "# Use the .shape attribute to get the shapes of A and b\n",
    "print(f\"Shape of A: {A.shape}\")\n",
    "print(f\"Shape of b: {b.shape}\\n\")\n",
    "\n",
    "# Get the element in the second row and first column of A\n",
    "print(f\"A_2_1 = {A[1,0]}\\n\")\n",
    "\n",
    "# Get second column of A \n",
    "print(f\"Second column of A = {A[:,1]}\\n\")\n",
    "\n",
    "# Get first row of A \n",
    "print(f\"First row of A = {A[0]}\\n\")\n",
    "\n",
    "# Get columns 2 and 3 of A\n",
    "print(f\"Second and third column of A =\\n{A[:,1:3]}\\n\")"
   ]
  },
  {
   "cell_type": "markdown",
   "metadata": {
    "deletable": false,
    "editable": false,
    "nbgrader": {
     "cell_type": "markdown",
     "checksum": "798d20d010bdad7a85b2bc64427ac7b5",
     "grade": false,
     "grade_id": "cell-3994f2cf1e1ef789",
     "locked": true,
     "schema_version": 3,
     "solution": false,
     "task": false
    }
   },
   "source": [
    "<a id='pdDataDemo'></a>\n",
    "<div class=\" alert alert-warning\">\n",
    "    \n",
    "### Student task. Feature matrix in NumPy\n",
    "    \n",
    "This task tests your knowledge on the structure of the feature matrix $\\mathbf{X}$ and array indexing in NumPy.\n",
    "    \n",
    "The code snippet first creates a \"feature matrix\" containing a range of numbers. After this, your task is to\n",
    "    \n",
    "- Store a vector containing the values of the first feature of the feature matrix in the variable `a`.\n",
    "    \n",
    "- Store the feature vector of the 10th data point in the variable `b`\n",
    "    \n",
    "- Store a matrix containing the 2nd and 3rd features of data points $10, 11, \\ldots, 14$ in the variable `c`.\n",
    "    \n",
    "**Hint:** Remember that indexing starts from zero in Python! For example, the first data point is stored in the row with index 0, etc.\n",
    "</div>"
   ]
  },
  {
   "cell_type": "code",
   "execution_count": 58,
   "metadata": {
    "deletable": false,
    "nbgrader": {
     "cell_type": "code",
     "checksum": "1902714ad474a6dea6a55e163a739c3f",
     "grade": false,
     "grade_id": "cell-df4a2585abf3ffc3",
     "locked": false,
     "schema_version": 3,
     "solution": true,
     "task": false
    }
   },
   "outputs": [
    {
     "name": "stdout",
     "output_type": "stream",
     "text": [
      "Shape of X: (20, 5)\n",
      "Shape of a: (20,)\n",
      "Shape of b: (5,)\n",
      "Shape of c: (5, 2)\n"
     ]
    }
   ],
   "source": [
    "# Define the feature matrix \n",
    "X = np.arange(1,101).reshape(20,5) \n",
    "\n",
    "### STUDENT TASK ###\n",
    "# YOUR CODE HERE\n",
    "a = X[:,0]\n",
    "b = X[9,:]\n",
    "c = X[9:14,1:3]\n",
    "#raise NotImplementedError()\n",
    "print(f\"Shape of X: {X.shape}\")\n",
    "print(f\"Shape of a: {a.shape}\")\n",
    "print(f\"Shape of b: {b.shape}\")\n",
    "print(f\"Shape of c: {c.shape}\")"
   ]
  },
  {
   "cell_type": "code",
   "execution_count": 59,
   "metadata": {
    "deletable": false,
    "editable": false,
    "nbgrader": {
     "cell_type": "code",
     "checksum": "6a9a9ede4a2a526d737e500e9de195af",
     "grade": true,
     "grade_id": "cell-29044ab014dc3a2b",
     "locked": true,
     "points": 2,
     "schema_version": 3,
     "solution": false,
     "task": false
    }
   },
   "outputs": [
    {
     "name": "stdout",
     "output_type": "stream",
     "text": [
      "Sanity checks passed!\n"
     ]
    }
   ],
   "source": [
    "# Perform some sanity checks on the solution\n",
    "assert a.shape == (20,), \"The shape of a is incorrect!\"\n",
    "assert b.shape == (5,), \"The shape of b is incorrect!\"\n",
    "assert c.shape == (5, 2), \"The shape of c is incorrect!\"\n",
    "\n",
    "print(\"Sanity checks passed!\")\n"
   ]
  },
  {
   "cell_type": "markdown",
   "metadata": {
    "deletable": false,
    "editable": false,
    "nbgrader": {
     "cell_type": "markdown",
     "checksum": "e242b3aae9093bbc61e38067af4ca747",
     "grade": false,
     "grade_id": "cell-f5b6ceec01e8b87b",
     "locked": true,
     "schema_version": 3,
     "solution": false,
     "task": false
    }
   },
   "source": [
    "### Loading datasets in NumPy with Pandas\n",
    "\n",
    "On this course, you will learn how to solve machine learning problems using ML models implemented in the Python library **scikit-learn**, which is built on the scientific computing package **NumPy**. Hence, you will first have to load data into NumPy arrays before you can apply ML methods from scikit-learn.\n",
    "\n",
    "In this section, you will learn how to load a dataset using Pandas and how to define the feature matrix and label vector that are used in many scikit-learn models. As an example, we will use a small dataset consisting of the weights and bench press results of students at Aalto university, and consider the weight as the feature and the bench press result as the label of the data points."
   ]
  },
  {
   "cell_type": "markdown",
   "metadata": {
    "deletable": false,
    "editable": false,
    "nbgrader": {
     "cell_type": "markdown",
     "checksum": "1959c3763ce10d7171c0be21465179ec",
     "grade": false,
     "grade_id": "cell-2d95b85ab70b4888",
     "locked": true,
     "schema_version": 3,
     "solution": false,
     "task": false
    }
   },
   "source": [
    "<a id='pdDataDemo'></a>\n",
    "<div class=\" alert alert-info\">\n",
    "\n",
    "### Demo. Loading a dataset with Pandas.  \n",
    "    \n",
    "The code snippet below loads the bench press dataset using the function `read_csv` in Pandas ([documentation](https://pandas.pydata.org/pandas-docs/stable/reference/api/pandas.read_csv.html?highlight=read_csv#pandas.read_csv)). The function creates a Pandas [DataFrame](https://www.google.com/search?q=pandas+dataframe&oq=pandas+dataframe&aqs=chrome.0.69i59j35i39j0l5j69i60.3267j0j7&sourceid=chrome&ie=UTF-8) based on the data, and uses the top row to define the column names.\n",
    "    \n",
    "In order to define the feature matrix `X` and label vector `y`, we first select the corresponding data from the dataframe, and then convert it into `ndarray`:s by using the `.to_numpy()` function.\n",
    "</div>"
   ]
  },
  {
   "cell_type": "code",
   "execution_count": 60,
   "metadata": {
    "deletable": false,
    "editable": false,
    "nbgrader": {
     "cell_type": "code",
     "checksum": "5a3fa9e740d7c7d67c0c6cc627cbc5b4",
     "grade": false,
     "grade_id": "cell-3d4acbe8e8cbb5f0",
     "locked": true,
     "schema_version": 3,
     "solution": false,
     "task": false
    }
   },
   "outputs": [
    {
     "name": "stdout",
     "output_type": "stream",
     "text": [
      "First five values of X (weights of students):\n",
      " [[68.72700594]\n",
      " [97.53571532]\n",
      " [86.59969709]\n",
      " [79.93292421]\n",
      " [57.80093202]] \n",
      "\n",
      "First five values of y (bp results of students):\n",
      " [ 45.82560525 111.9390433   80.88996529  75.52398007  37.67579885]\n"
     ]
    }
   ],
   "source": [
    "import pandas as pd\n",
    "\n",
    "path = \"../../../coursedata/R1_ComponentsML/benchpress.csv\"  # Define the file path\n",
    "df = pd.read_csv(path)  # Load the data as a Pandas DataFrame\n",
    "\n",
    "X = df['Bodyweight'].to_numpy().reshape(-1,1)  # Define the feature matrix\n",
    "y = df['Benchpress'].to_numpy()  # Define the label vector\n",
    "\n",
    "# Print first five values of X and y\n",
    "print(f\"First five values of X (weights of students):\\n {X[:5]} \\n\")\n",
    "print(f\"First five values of y (bp results of students):\\n {y[:5]}\")"
   ]
  },
  {
   "cell_type": "markdown",
   "metadata": {
    "deletable": false,
    "editable": false,
    "nbgrader": {
     "cell_type": "markdown",
     "checksum": "58951d4edd5e90eb68957f6d2bb7e582",
     "grade": false,
     "grade_id": "cell-f22c842fc8d33ae5",
     "locked": true,
     "schema_version": 3,
     "solution": false,
     "task": false
    }
   },
   "source": [
    "### Datasets in Scikit-Learn\n",
    "\n",
    "When solving real-life ML problems, you will have to import your own data into the Python environment by using, for example, the methods shown above. However, the Python library `scikit-learn` also comes with functions for loading a few standard datasets, which can be useful for testing different ML methods or honing your ML skills. These datasets include some small built-in [toy datasets](https://scikit-learn.org/stable/datasets/toy_dataset.html), \n",
    "such as the [iris](https://scikit-learn.org/stable/datasets/toy_dataset.html#iris-plants-dataset) and [digits](https://scikit-learn.org/stable/datasets/toy_dataset.html#optical-recognition-of-handwritten-digits-dataset) datasets for classification and the [boston house prices](https://scikit-learn.org/stable/datasets/toy_dataset.html#boston-house-prices-dataset) and [linnerud](https://scikit-learn.org/stable/datasets/toy_dataset.html#linnerrud-dataset) datasets for regression, but also larger [real world datasets](https://scikit-learn.org/stable/datasets/real_world.html#real-world-datasets) that are downloaded only when calling a fetching function.\n",
    "\n",
    "The scikit-learn datasets are stored in a [`bunch` data type](https://pypi.org/project/bunch/) containing multiple key-value pairs, similar to the ones in a Python `dictionary`. The main difference between the two data types is that the `bunch` type enables accessing values through attributes named in accordance with the keys (i.e. `bunch['key'] == bunch.key`).\n",
    "\n",
    "All scikit-learn datasets include a feature matrix with key `'data'` and a target vector with the key `'target'`, as well as a description of the dataset with the key `DESCR`. Also, the `Bunch` objects might contain other items as well, such as `feature_names` and `target_names` containing the names of the features and targets of the data points respectively. \n",
    "\n",
    "You can find more information about the datasets in `scikit-learn` here: https://scikit-learn.org/stable/datasets/toy_dataset.html"
   ]
  },
  {
   "cell_type": "markdown",
   "metadata": {
    "deletable": false,
    "editable": false,
    "nbgrader": {
     "cell_type": "markdown",
     "checksum": "5b498daaac32848eca6b006f16863e19",
     "grade": false,
     "grade_id": "cell-2c2a7ef97a6dd04c",
     "locked": true,
     "schema_version": 3,
     "solution": false,
     "task": false
    }
   },
   "source": [
    "### Example problem: Predicting the number of chin-ups based on an athlete's weight\n",
    "\n",
    "Now, we consider an example ML problem that we will later solve using a ML model in Scikit-learn. In this problem, our task is to predict the number of chin-ups that an athlete is able to do, based on his/her weight. Here, the data points represent athletes, the only feature is the weight of the athlete, and the label is the number of chin-ups the athlete is able to perform. The goal is to solve this problem by using ML to find a predictor function $h(x)$ that predicts the number of chin-ups based on the weight of the athlete.\n",
    "\n",
    "We can obtain data for training our model from the **[\"Linnerud\" dataset](https://scikit-learn.org/stable/modules/generated/sklearn.datasets.load_linnerud.html#sklearn.datasets.load_linnerud)**, which contains the physiological parameters (Weight, Waist, and Puls) and exercise data (Chin-ups, Situps, and Jumps) of 20 athletes. In the dataset description, the exercise data is referred to as features, while the physiological parameters are defined as the labels of datapoints (athletes). However, in practice, one can freely define which variables are features and which are labels. "
   ]
  },
  {
   "cell_type": "markdown",
   "metadata": {
    "deletable": false,
    "editable": false,
    "nbgrader": {
     "cell_type": "markdown",
     "checksum": "cbff1112580b8bda15cdba54c38762ab",
     "grade": false,
     "grade_id": "cell-b187f4bbec28c596",
     "locked": true,
     "schema_version": 3,
     "solution": false,
     "task": false
    }
   },
   "source": [
    "<a id='pdDataDemo'></a>\n",
    "<div class=\" alert alert-warning\">\n",
    "   \n",
    "### Student task. Loading the data for chin-up prediction.  \n",
    "    \n",
    "In this task your objective is to create a function that returns a feature matrix `X` containing the weights (in kg) of the 20 athletes in the linnerud dataset, and a label vector `y` containing the number of chin-ups of the respective athletes. The feature matrix should be of shape `(20,1)` and the label vector of shape `(20,)`.\n",
    "    \n",
    "The steps you have to code are as follows:\n",
    "    \n",
    "- Load the linnerud data using the function `datasets.load_linnerud()` and store it in a variable named `linnerud`\n",
    "    \n",
    "    \n",
    "- Store the athlete weights in a feature matrix `X`. The athlete weights are located in the first column of the matrix `linnerud.target`. Furthermore, convert the weights in `X` to kg by multiplying `X` with the conversion factor `CF`and reshape `X` to shape `(20,1)` by using the function `X.reshape(m,n)` with suitable arguments `m,n`\n",
    "    \n",
    "    \n",
    "- Store the nr. of chin-ups in a label vector `y`. The nr. of chin-ups are located in the first column of the matrix `linnerud.data`\n",
    "</div>"
   ]
  },
  {
   "cell_type": "code",
   "execution_count": 96,
   "metadata": {
    "deletable": false,
    "nbgrader": {
     "cell_type": "code",
     "checksum": "b9415b4e653615acf0cf861062751388",
     "grade": false,
     "grade_id": "cell-773022e20cf51a59",
     "locked": false,
     "schema_version": 3,
     "solution": true,
     "task": false
    }
   },
   "outputs": [],
   "source": [
    "from sklearn import datasets\n",
    "\n",
    "CF = 0.453\n",
    "\n",
    "def get_chinup_data():\n",
    "    ### STUDENT TASK ###\n",
    "    # Load the linnerud dataset into the bunch object \"linnerud\"\n",
    "    linnerud = datasets.load_linnerud()\n",
    "    M = linnerud.target\n",
    "    #X = linnerud.target[:,0] # returns a (20,) vector\n",
    "    #X = X.reshape(20,1)\n",
    "    # X = CF*X\n",
    "    X = linnerud.target[:,:1] #returns a (20,1) matrix \n",
    "    X = CF*X\n",
    "\n",
    "    y = linnerud.data[:,0]\n",
    "\n",
    "    #raise NotImplementedError()\n",
    "    return X, y\n",
    "\n",
    "X, y = get_chinup_data()"
   ]
  },
  {
   "cell_type": "code",
   "execution_count": 97,
   "metadata": {
    "deletable": false,
    "editable": false,
    "nbgrader": {
     "cell_type": "code",
     "checksum": "c3fa497825d5bd797f718eb01fedcd5d",
     "grade": true,
     "grade_id": "cell-7317f587a4a3bbfe",
     "locked": true,
     "points": 2,
     "schema_version": 3,
     "solution": false,
     "task": false
    }
   },
   "outputs": [
    {
     "name": "stdout",
     "output_type": "stream",
     "text": [
      "Sanity checks passed!\n"
     ]
    }
   ],
   "source": [
    "# Perform some sanity checks on the solutions\n",
    "assert X.shape == (20,1), \"The shape of the feature matrix is wrong!\"\n",
    "assert y.shape == (20,), \"The shape of the target vector is wrong!\"\n",
    "\n",
    "print(\"Sanity checks passed!\")\n"
   ]
  },
  {
   "cell_type": "markdown",
   "metadata": {
    "deletable": false,
    "editable": false,
    "nbgrader": {
     "cell_type": "markdown",
     "checksum": "9ff054b94b08985a73137d3f71ff5424",
     "grade": false,
     "grade_id": "cell-9caa25de1ebab052",
     "locked": true,
     "schema_version": 3,
     "solution": false,
     "task": false
    }
   },
   "source": [
    "### Visualizing Data"
   ]
  },
  {
   "cell_type": "markdown",
   "metadata": {
    "deletable": false,
    "editable": false,
    "nbgrader": {
     "cell_type": "markdown",
     "checksum": "c7bcab6856fa68fc8ef66d6901e60b79",
     "grade": false,
     "grade_id": "cell-e621d21ef7385ef9",
     "locked": true,
     "schema_version": 3,
     "solution": false,
     "task": false
    }
   },
   "source": [
    "Before considering how machine learning models learn from data, we will briefly examine how to visualize data using the [Matplotlib](https://matplotlib.org/) library in Python. Visual exploration of the dataset is often beneficial before applying ML methods since it can aid in identifying relationships between the variables in the data.\n",
    "\n",
    "The [scatterplot](https://en.wikipedia.org/wiki/Scatter_plot) is a particularly useful tool for visualizing a dataset containing discrete data points. The scatterplot visualizes the data with respect to two different variables and can be used to assess the relationship between a single feature and the label, or the relationship between two distinct features. Another useful plot type is the [histogram](https://en.wikipedia.org/wiki/Histogram), which is often used for visualizing the sample distribution of the data with respect to a single numerical variable."
   ]
  },
  {
   "cell_type": "markdown",
   "metadata": {
    "deletable": false,
    "editable": false,
    "nbgrader": {
     "cell_type": "markdown",
     "checksum": "c1003731f0c8a0b605fd97a0918c5904",
     "grade": false,
     "grade_id": "cell-1e9c2aaf35ed132a",
     "locked": true,
     "schema_version": 3,
     "solution": false,
     "task": false
    }
   },
   "source": [
    "<a id='plotpdDemo'></a>\n",
    "<div class=\" alert alert-info\">\n",
    "    \n",
    "### Demo. Plotting a scatterplot with Matplotlib.  \n",
    "    \n",
    "In the code snippet below, we will plot a scatterplot of the weight and nr. of chin-ups of the 20 athletes in the Linnerud dataset, using the `.scatter()` function in Matplotlib.\n",
    "    \n",
    "You can consult the [documentation](https://matplotlib.org/3.1.1/api/_as_gen/matplotlib.pyplot.scatter.html) of `.scatter()` for information on different options available for plotting, as well as further examples that show how to create more sophisticated scatterplots. \n",
    "</div>"
   ]
  },
  {
   "cell_type": "code",
   "execution_count": 98,
   "metadata": {
    "deletable": false,
    "editable": false,
    "nbgrader": {
     "cell_type": "code",
     "checksum": "84c9d68032b1e84d2766c96c8ed3f95a",
     "grade": false,
     "grade_id": "cell-13b2729fe64490db",
     "locked": true,
     "schema_version": 3,
     "solution": false,
     "task": false
    }
   },
   "outputs": [
    {
     "data": {
      "image/png": "[encoded data removed]",
      "text/plain": [
       "<Figure size 576x360 with 1 Axes>"
      ]
     },
     "metadata": {
      "needs_background": "light"
     },
     "output_type": "display_data"
    }
   ],
   "source": [
    "import matplotlib.pyplot as plt\n",
    "\n",
    "# Load Linnerud data and select the physical attributes as the features and labels\n",
    "x, y = get_chinup_data()\n",
    "\n",
    "plt.figure(figsize=(8,5))  # Set size of figure\n",
    "plt.scatter(x, y)  # Make a scatterplot of the weights vs. chin-ups\n",
    "plt.title(\"Weight vs. nr. of chinups of athletes\")  # Set title\n",
    "plt.xlabel(\"Weight\")  # Set label to x-axis\n",
    "plt.ylabel(\"Chin-ups\")  # Set label to y-axis\n",
    "plt.show()"
   ]
  },
  {
   "cell_type": "markdown",
   "metadata": {
    "deletable": false,
    "editable": false,
    "nbgrader": {
     "cell_type": "markdown",
     "checksum": "c61795ef1c5c99cb6094eb9636399f8a",
     "grade": false,
     "grade_id": "cell-6fa2dc2cb78c4961",
     "locked": true,
     "schema_version": 3,
     "solution": false,
     "task": false
    }
   },
   "source": [
    "## Hypothesis Space \n",
    "\n",
    "When applying a ML model on labeled data, we want the model to learn a predictor function $h(\\mathbf{x})$ that takes the features of a data point as input and outputs a predicted label $\\hat{y}$. Ideally, we would like our ML model to be able to learn any possible function so that it can find the one that best represents the relationship between the features and the label. This is, however, impossible in practice, and therefore we have to restrict the set of functions that the ML model can learn. This restricted set of predictor functions is referred to as the **hypothesis space**.\n",
    "\n",
    "The choice of hypothesis space corresponds to an assumption about the relationship between the features and the label of a data point. For example, by selecting the set of linear functions of the form\n",
    "\n",
    "\\begin{equation}\n",
    "    h(x) = w \\cdot x, \\; \\text{ where } w \\in \\mathbb{R}\n",
    "\\end{equation}\n",
    "\n",
    "as the hypothesis space in the chin-up problem, we are effectively assuming that the relationship between the weight and the number of chin-ups can be approximated well using a linear function. It is important to understand that such assumptions can rarely be justified in advance, and it is in practice necessary to experiment with models using different hypothesis spaces to find the one that results in the best predictions.\n",
    "\n",
    "### Model parameters\n",
    "\n",
    "As per the example above, let us choose the set of linear functions\n",
    "\n",
    "\\begin{equation}\n",
    "    h(x) = w \\cdot x, \\; \\text{ where } w \\in \\mathbb{R}\n",
    "\\end{equation}\n",
    "\n",
    "as the hypothesis space for the chin-up problem. The predictor functions take as input the weight $x$ of an athlete and return a prediction $\\hat{y} = wx$ of the number of chin-ups the athlete can perform. Note that each possible value of the coefficient $w$ corresponds to a particular predictor function, and thus the learning algorithm can search for the best predictor by tuning the value of $w$.\n",
    "\n",
    "In this example, $w$ is the sole **model parameter** of the ML model. Model parameters are variables that the learning algorithm tunes during the training process in order to find the best predictor function in the hypothesis space. Models with larger hypothesis spaces than our tiny example have a larger number of parameters. An extreme example is the [GPT-3](https://en.wikipedia.org/wiki/GPT-3) deep learning model, which has ~175 billion model parameters!\n",
    "\n",
    "The figure below shows the optimal predictor for four polynomial hypothesis spaces, as well as the form of the predictor functions in the respective spaces. We can see that whereas the first-degree polynomials in the hypothesis space $\\mathcal{H}^{(2)}$ are parametrized by the linear term $w_1$ and intercept $w_0$, the third-degree polynomials in $H^{(4)}$ are parametrized by a larger collection of parameters $(w_0, w_1, w_2, w_3)$. "
   ]
  },
  {
   "cell_type": "markdown",
   "metadata": {
    "deletable": false,
    "editable": false,
    "nbgrader": {
     "cell_type": "markdown",
     "checksum": "d24d3d1304489ceb4e2263d5b1726a07",
     "grade": false,
     "grade_id": "cell-17cd17a07c82795a",
     "locked": true,
     "schema_version": 3,
     "solution": false,
     "task": false
    }
   },
   "source": [
    "<img src=\"../../../coursedata/R1_ComponentsML/Hspace.jpg\" alt=\"Drawing\" style=\"width: 900px;\"/>"
   ]
  },
  {
   "cell_type": "markdown",
   "metadata": {
    "deletable": false,
    "editable": false,
    "nbgrader": {
     "cell_type": "markdown",
     "checksum": "2483751cc84fc3784b75dbd187759454",
     "grade": false,
     "grade_id": "cell-682234cedb587efc",
     "locked": true,
     "schema_version": 3,
     "solution": false
    }
   },
   "source": [
    "<a id='HypothesisDemo'></a>\n",
    "<div class=\" alert alert-info\">\n",
    "    \n",
    "### Demo. Hypothesis Space of Linear Predictor Functions.  \n",
    "    \n",
    "In the code below, we create a scatterplot of the body weight values and number of chin-ups of the athletes in our example problem. In addition, we plot a few of the predictor functions $h(x)=w \\cdot x$ in the linear hypothesis space using certain choices of the parameter $w \\in \\mathbb{R}$.\n",
    "</div>"
   ]
  },
  {
   "cell_type": "code",
   "execution_count": null,
   "metadata": {
    "deletable": false,
    "editable": false,
    "nbgrader": {
     "cell_type": "code",
     "checksum": "77e8e9ff2d17cf097004b17897749ed2",
     "grade": false,
     "grade_id": "cell-6fadac9f2f063914",
     "locked": true,
     "schema_version": 3,
     "solution": false
    }
   },
   "outputs": [],
   "source": [
    "# Import libraries\n",
    "import numpy as np\n",
    "import matplotlib.pyplot as plt\n",
    "from sklearn import datasets \n",
    "\n",
    "# Load the chinup data\n",
    "x, y = get_chinup_data()\n",
    "\n",
    "# Define the coefficients w for the different predictors (0,0.05,...,0.45)\n",
    "coefficients = np.linspace(0, 0.45, 10)\n",
    "\n",
    "# Plot the datapoints and generated predictor functions from the linear hypothesis space\n",
    "fig, axes = plt.subplots(1, 1, figsize=(12, 6))  # Create Figure and Axes object\n",
    "\n",
    "# Make a scatterplot of the data\n",
    "axes.scatter(x, y, color='blue', label=\"data points\") \n",
    "\n",
    "# Plot the predictor function for each regression coefficient w in 'coefficients'\n",
    "for w in coefficients: \n",
    "    y_pred = w*x  # Calculate the predictor function\n",
    "    label = f\"w = {w:.2f}\"  # Format the label for the legend\n",
    "    axes.plot(x, y_pred, label=label)  # Plot the predictor function\n",
    "\n",
    "axes.set_title('Several different linear predictor functions')  # Set plot title\n",
    "axes.set_xlabel('body weight (kg)')  # Set x-axis label\n",
    "axes.set_ylabel('number of chin-ups')  # Set y-axis label\n",
    "axes.legend(loc='upper left')  # Set location of the legend to show in upper left corner\n",
    "plt.show()"
   ]
  },
  {
   "cell_type": "markdown",
   "metadata": {
    "deletable": false,
    "editable": false,
    "nbgrader": {
     "cell_type": "markdown",
     "checksum": "fd30b4f3b06f242b3e0a06d3be4c6ff6",
     "grade": false,
     "grade_id": "cell-1ed770e7af6187b0",
     "locked": true,
     "schema_version": 3,
     "solution": false
    }
   },
   "source": [
    "## Learning by Minimizing Loss\n",
    "\n",
    "Given a set of training data, we would like our ML model to learn the predictor function in its hypothesis space that results in the best predictions $\\hat{y} = h(\\mathbf{x})$ on the data. We must therefore find a way to measure the quality of the predictions.\n",
    "\n",
    "To this end, we define a **loss function** $\\mathcal{L}(\\hat{y}, y)$, which quantifies the quality of a single prediction $\\hat{y}=h(\\mathbf{x})$ by comparing it to the true label $y$ of a data point. The basic idea of a loss function is that it outputs a small loss for good predictions $\\hat{y} \\approx y$ and a larger loss for bad predictions.\n",
    "\n",
    "Given a loss function, a ML model can learn the best predictor function in the hypothesis space by searching for the set of model parameters that minimize the **average loss** on the training data. The average loss is the average of the losses incurred by the individual data points in the training set:\n",
    "\n",
    "\\begin{equation}\n",
    "    \\mathcal{E(h(\\mathbf{x}))} = \\frac{1}{m} \\sum_{i=1}^m \\mathcal{L}(\\hat{y}_i, y_i)\n",
    "\\end{equation}\n",
    "\n",
    "In general, we are free to define the loss function to best suit the statistical properties of the data and computational resources at hand. However, for certain classes of machine learning problems some useful choices for the loss functions have crystalized. For example, if the labels of data points take on numeric values, a widely used choice for the loss function is the **squared error loss** $(y - \\hat{y})^{2}$. \n",
    "\n",
    "We will use this loss function to fit a linear model to the chin-up data in our example problem. In this case, learning the best predictor function corresponds to finding the value of $w$ that minimizes the **mean squared error** (MSE):\n",
    "\n",
    "\\begin{equation}\n",
    "\\frac{1}{m} \\sum_{i=1}^{m} (y^{(i)} - \\hat{y}^{(i)})^{2} = \\frac{1}{m} \\sum_{i=1}^{m} (y^{(i)} - w \\cdot x^{(i)})^{2}. \n",
    "\\end{equation}"
   ]
  },
  {
   "cell_type": "markdown",
   "metadata": {
    "deletable": false,
    "editable": false,
    "nbgrader": {
     "cell_type": "markdown",
     "checksum": "974b873f055c948ae33f8b739a16b35e",
     "grade": false,
     "grade_id": "cell-cb8925a42313f816",
     "locked": true,
     "schema_version": 3,
     "solution": false
    }
   },
   "source": [
    "<a id='FitRegressionDemo'></a>\n",
    "<div class=\" alert alert-info\">\n",
    "    \n",
    "### Demo. Fitting a Linear Model to the Linnerud data.  \n",
    "    \n",
    "The `LinearRegression` class in Scikit-learn implements a standard linear regression model. In the code snippet below, we use this class to fit a linear regression model without an intercept to the Linnerud data, and use the fitted model to calculate the predicted labels for the training data.\n",
    "    \n",
    "The steps we take are the following:\n",
    "    \n",
    "- First, we create an instance of the `LinearRegression` class. This is done with the statement `LinearRegression(...)`. When creating this object, we can pass different parameters to the constructor that will affect the functionality of the model. For example, the parameter `fit_intercept` determines whether or not the model includes an intercept in its predictor functions\n",
    "    \n",
    "    \n",
    "- After creating the object and storing it in a variable `reg`, we train the model on the features `X` and labels `y` by calling the function `reg.fit(X, y)`. This function takes the feature matrix and label vectors as arguments, and calculates the optimal model parameters. The optimal regression weights (coefficients) are stored in the `.coef_` attribute of the object.\n",
    "    \n",
    "    \n",
    "- Finally, we use the function `reg.predict(X)` to calculate the predicted labels for the training data. The predicted labels are calculated using the optimal weight `w_opt` that was stored in the `.coef_` attribute after fitting the model.\n",
    "    \n",
    "The documentation of the linear regression class can be found [here](https://scikit-learn.org/stable/modules/generated/sklearn.linear_model.LinearRegression.html)\n",
    "</div>"
   ]
  },
  {
   "cell_type": "code",
   "execution_count": 99,
   "metadata": {
    "deletable": false,
    "editable": false,
    "nbgrader": {
     "cell_type": "code",
     "checksum": "91208a524ebb0dcb0e3a88a3646b4e0d",
     "grade": false,
     "grade_id": "cell-1ad68ef75f613b5c",
     "locked": true,
     "schema_version": 3,
     "solution": false,
     "task": false
    }
   },
   "outputs": [
    {
     "name": "stdout",
     "output_type": "stream",
     "text": [
      "Optimal weight w = 0.11143528587026878\n"
     ]
    }
   ],
   "source": [
    "from sklearn.linear_model import LinearRegression  \n",
    "\n",
    "reg = LinearRegression(fit_intercept=False)  # Initialize the Linear Regression model\n",
    "reg.fit(x, y)  # Fit the linear regression model using \"x\" and \"y\" variables\n",
    "y_pred = reg.predict(x)  # Make predictions based on the fitted model\n",
    "w_opt = reg.coef_[0]  # Get the optimal regression coefficient\n",
    "\n",
    "# Print weight of the optimal predictor \n",
    "print(\"Optimal weight w =\", w_opt)"
   ]
  },
  {
   "cell_type": "markdown",
   "metadata": {
    "deletable": false,
    "editable": false,
    "nbgrader": {
     "cell_type": "markdown",
     "checksum": "72395b4bccbe1e7c69e4f6973b021c23",
     "grade": false,
     "grade_id": "cell-c83acb51a86763e5",
     "locked": true,
     "schema_version": 3,
     "solution": false,
     "task": false
    }
   },
   "source": [
    "Next, we plot the data points along with the optimal predictor function of the model and the predicted labels. Furthermore, we indicate the prediction errors $y-\\hat{y}$ with red bars."
   ]
  },
  {
   "cell_type": "code",
   "execution_count": 100,
   "metadata": {
    "deletable": false,
    "editable": false,
    "nbgrader": {
     "cell_type": "code",
     "checksum": "7daa3f9db0821fb1171876a5fac4d152",
     "grade": false,
     "grade_id": "cell-5179c0ba5ae9c29a",
     "locked": true,
     "schema_version": 3,
     "solution": false,
     "task": false
    }
   },
   "outputs": [
    {
     "data": {
      "image/png": "[encoded data removed]",
      "text/plain": [
       "<Figure size 720x432 with 1 Axes>"
      ]
     },
     "metadata": {
      "needs_background": "light"
     },
     "output_type": "display_data"
    }
   ],
   "source": [
    "# Create a grid of test feature values \n",
    "x_grid = np.linspace(-1, 120, num=100).reshape(-1,1) \n",
    "# Compute predictions from linear regression model without intercept term \n",
    "y_grid = reg.predict(x_grid) \n",
    "\n",
    "fig, axes = plt.subplots(1, 1, figsize=(10, 6))  # Create Figure and Axis objects and set figure size\n",
    "axes.scatter(x, y, label='data points')  # Make a scatterplot of the weights vs. the nr. of chin-ups\n",
    "axes.scatter(x, y_pred, label='predicted labels', color='black')  # Plot the predicted labels\n",
    "axes.plot(x_grid, y_grid, color='green', label='optimal linear predictor')  # Plot the linear predictor\n",
    "\n",
    "# Plot prediction errors\n",
    "axes.plot((x[0], x[0]), (y[0], y_pred[0]), color='red', label='errors')  # Add label to legend\n",
    "for i in range(len(x)-1):  # Loop through range length of x - 1\n",
    "    lineXdata = (x[i+1], x[i+1])  # Make tuples with same x\n",
    "    lineYdata = (y[i+1], y_pred[i+1])  # Make tuples with different y's\n",
    "    axes.plot(lineXdata, lineYdata, color='red')  # Add the red lines to the plot to indicate error distance from our predicted regression model\n",
    "\n",
    "axes.axhline(y=0, color='k', linestyle=':')  # Add a dotted line to the plot\n",
    "axes.axvline(x=0, color='k', linestyle=':')  # Add a dotted line to the plot\n",
    "    \n",
    "axes.legend(loc='upper right')  # Add legend to the upper right corner\n",
    "axes.set_xlabel(\"feature x (body weight)\")  # Set label for x-axis\n",
    "axes.set_ylabel(\"label y (number of chin-ups)\")  # Set label for y-axis\n",
    "plt.show()"
   ]
  },
  {
   "cell_type": "markdown",
   "metadata": {
    "deletable": false,
    "editable": false,
    "nbgrader": {
     "cell_type": "markdown",
     "checksum": "987cff5f75cdbea8766d5b2ca3d6a866",
     "grade": false,
     "grade_id": "cell-16037415de0db9f3",
     "locked": true,
     "schema_version": 3,
     "solution": false
    }
   },
   "source": [
    "### Adding an Intercept Term \n",
    "\n",
    "From the figure above, we can identify a significant issue with the current hypothesis space consisting of functions $h(x) = wx$. Namely, that for all functions $h(0)=0$, i.e., the functions always cross the origin. This severely restricts linear functions the ML model can learn, and in this particular problem, prohibits learning any function with a negative relationship between the weight and chin-ups.\n",
    "\n",
    "We can solve this issue by selecting a different hypothesis space for our model. Specifically, we select a model that uses predictor functions of the form \n",
    "\n",
    "\\begin{equation}\n",
    "h(x) = w \\cdot x + b, \n",
    "\\end{equation}\n",
    "\n",
    "which contain a weight $w$ and an intercept term $b$. By including the intercept term, we allow the predictor functions to cross (intercept) the y-axis at any value $b$ on the axis since $h(0)=b$. Observe that this model has two model parameters - $w$ and $b$. Thus, the model is fitted by minimizing the average squared error of $h(x)$ with respect to both $w$ and $b$.\n",
    "\n",
    "When including an intercept term, the hypothesis space contains all possible linear functions, instead of only those that cross the origin. Thus, it is always preferable to include the intercept term, except for rare cases where we know in advance that the regression line must pass through the origin. "
   ]
  },
  {
   "cell_type": "markdown",
   "metadata": {
    "deletable": false,
    "editable": false,
    "nbgrader": {
     "cell_type": "markdown",
     "checksum": "fc93574f6450bf06d1c6a21ae48c1359",
     "grade": false,
     "grade_id": "cell-11aeade9e7ce5633",
     "locked": true,
     "schema_version": 3,
     "solution": false,
     "task": false
    }
   },
   "source": [
    "<a id='QuestionR1_1'></a>\n",
    "<div class=\" alert alert-warning\">\n",
    "    \n",
    "### Student Task. Fitting a Linear Model with and without an intercept. \n",
    "\n",
    "Your task is to fit two linear regression models to the Linnerud data, one with an intercept term and one without. The inclusion of the intercept term is controlled by the parameter `fit_intercept` (`LinearRegression(fit_intercept=...)`), which takes a boolean value (`True` or `False`) that indicates whether the intercept is included.\n",
    "    \n",
    "In addition, you should find the optimal weight $w_{\\rm opt}$ for the model without intercept and store it in the variable `w_opt`, and find the optimal weight and intercept for the model with an intercept and store these in the variables `w_opt_intercept` and `intercept` respectively.\n",
    "    \n",
    "The necessary steps for fitting each model are presented in detail in the previous demo.\n",
    "</div>"
   ]
  },
  {
   "cell_type": "code",
   "execution_count": 104,
   "metadata": {
    "deletable": false,
    "nbgrader": {
     "cell_type": "code",
     "checksum": "366d7234d7e826511360b1badd20f0a4",
     "grade": false,
     "grade_id": "cell-e7ae566693783d23",
     "locked": false,
     "schema_version": 3,
     "solution": true,
     "task": false
    }
   },
   "outputs": [
    {
     "name": "stdout",
     "output_type": "stream",
     "text": [
      "model without intercept: optimal weight w_opt = 0.11143528587026878\n",
      "model with intercept: optimal weight w_opt_intercept = -0.18418114215330775 and intercept = 24.351322650827086\n"
     ]
    }
   ],
   "source": [
    "x, y = get_chinup_data()\n",
    "\n",
    "### STUDENT TASK ###\n",
    "# Linear Regression model without an intercept\n",
    "reg =  LinearRegression(fit_intercept=False)\n",
    "reg.fit(x, y)\n",
    "#\n",
    "reg.coef_[0]\n",
    "#\n",
    "# Linear Regression model with an intercept term \n",
    "reg_intercept =  LinearRegression(fit_intercept=True)\n",
    "reg_intercept.fit(x, y)\n",
    "w_opt_intercept = reg_intercept.coef_[0]\n",
    "intercept = reg_intercept.intercept_\n",
    "#\n",
    "# remove the line raise NotImplementedError() before testing your solution and submitting code\n",
    "# YOUR CODE HERE\n",
    "#raise NotImplementedError()\n",
    "\n",
    "# Print parameters of the optimal predictors\n",
    "print(f\"model without intercept: optimal weight w_opt = {w_opt}\")\n",
    "print(f\"model with intercept: optimal weight w_opt_intercept = {w_opt_intercept} and intercept = {intercept}\")"
   ]
  },
  {
   "cell_type": "code",
   "execution_count": 105,
   "metadata": {
    "deletable": false,
    "editable": false,
    "nbgrader": {
     "cell_type": "code",
     "checksum": "e79ff24e69da83b188be4e4ff0225eeb",
     "grade": true,
     "grade_id": "cell-f9495c305f7fa466",
     "locked": true,
     "points": 3,
     "schema_version": 3,
     "solution": false,
     "task": false
    }
   },
   "outputs": [
    {
     "name": "stdout",
     "output_type": "stream",
     "text": [
      "Sanity checks passed!\n"
     ]
    }
   ],
   "source": [
    "# Perform sanity check on the results\n",
    "assert w_opt < 1, \"w_opt value is wrong\"\n",
    "assert w_opt_intercept < 50, \"w_opt_intercept value is wrong\"\n",
    "assert intercept > -400, \"intercept value is wrong\"\n",
    "assert intercept !=0, \"intercept value is wrong\"\n",
    "\n",
    "print('Sanity checks passed!')\n"
   ]
  },
  {
   "cell_type": "markdown",
   "metadata": {
    "deletable": false,
    "editable": false,
    "nbgrader": {
     "cell_type": "markdown",
     "checksum": "4325247f11aa7336ed6e68d8cffd5b13",
     "grade": false,
     "grade_id": "cell-b7fa07890fd96174",
     "locked": true,
     "schema_version": 3,
     "solution": false,
     "task": false
    }
   },
   "source": [
    "Next, we will plot a figure of the linnerud data and the optimal predictors found in the previous task."
   ]
  },
  {
   "cell_type": "code",
   "execution_count": 106,
   "metadata": {
    "deletable": false,
    "editable": false,
    "nbgrader": {
     "cell_type": "code",
     "checksum": "b173b577245c4366fca883c7d98a806a",
     "grade": false,
     "grade_id": "cell-7f8e08d57bb69288",
     "locked": true,
     "schema_version": 3,
     "solution": false,
     "task": false
    }
   },
   "outputs": [
    {
     "data": {
      "image/png": "[encoded data removed]",
      "text/plain": [
       "<Figure size 720x432 with 1 Axes>"
      ]
     },
     "metadata": {
      "needs_background": "light"
     },
     "output_type": "display_data"
    }
   ],
   "source": [
    "# Create a grid of test feature values  \n",
    "x_grid = np.linspace(-1, 120, num=100).reshape(-1,1) \n",
    "# Compute predictions from linear regression model without intercept term \n",
    "y_pred = reg.predict(x_grid) \n",
    "# Compute predictions on test feature values using linear regression model with intercept term \n",
    "y_pred_intercept = reg_intercept.predict(x_grid)\n",
    "\n",
    "fig, axes = plt.subplots(1, 1, figsize=(10, 6))  # Initialize subplots and get \"fig\" and \"axes\" variables\n",
    "axes.scatter(x, y, label='data points')  # Create a scatter plot of the chin-up data\n",
    "axes.plot(x_grid, y_pred, color='green', label='no intercept')  # Add a line to the plot\n",
    "axes.plot(x_grid, y_pred_intercept, color='red', label='with intercept')  # Add a line to the plot\n",
    "\n",
    "axes.legend() # Add a legend to the plot\n",
    "axes.set_xlabel(\"feature x\")  # Add x-axis label to the plot \n",
    "axes.set_ylabel(\"label y\")  # Add y-axis label to the plot\n",
    "axes.axhline(y=0, color='k', linestyle=':')  # Add a dotted line to the plot\n",
    "axes.axvline(x=0, color='k', linestyle=':')  # Add a dotted line to the plot\n",
    "plt.show()"
   ]
  },
  {
   "cell_type": "markdown",
   "metadata": {
    "deletable": false,
    "editable": false,
    "nbgrader": {
     "cell_type": "markdown",
     "checksum": "5d6b5106d4929b8e6cf4486b48a1c1a3",
     "grade": false,
     "grade_id": "cell-c5d09ebb3b2a0e69",
     "locked": true,
     "schema_version": 3,
     "solution": false,
     "task": false
    }
   },
   "source": [
    "By observing the figure above, we can see that the inclusion of the intercept leads to very different results and conclusions in the chin-up problem. While the model without the intercept seemed to suggest that heavier athletes are, on average, able to do more chin-ups than their lighter counterparts, the model with the intercept suggests the opposite. So which model is more likely to be correct?\n",
    "\n",
    "Even without explicitly calculating the training error, we are able to assert that model with the intercept fits the training data better. This is due to the fact that the intercept model is trained by minimizing the MSE with respect to both $w$ and $b$, whereas the other model only minimizes with respect to $w$. If the optimal linear predictor would cross the origin, the learning algorithm used to train the intercept model would find the optimal value of $b$ to be $b=0$ and both models would result in the same predictor. Since this is not the case, we know that the intercept model fits better!"
   ]
  },
  {
   "cell_type": "markdown",
   "metadata": {
    "deletable": false,
    "editable": false,
    "nbgrader": {
     "cell_type": "markdown",
     "checksum": "95cfe18e7f7780985d8431e9ace9ac6d",
     "grade": false,
     "grade_id": "cell-cc7e4e2a4f1a2536",
     "locked": true,
     "schema_version": 3,
     "solution": false,
     "task": false
    }
   },
   "source": [
    "## Key takeaways\n",
    "\n",
    "- An ML model can be decomposed into three components: The data, the hypothesis space, and the loss function\n",
    "\n",
    "\n",
    "- Data consists of data points, which are characterized by its features and label(s)\n",
    "\n",
    "\n",
    "- The hypothesis space consists of the predictor functions that a ML model can learn. ML models have a restricted hypothesis space since it is not computationally feasible to search for the best predictor out of all possible functions\n",
    "\n",
    "\n",
    "- The loss function measures the quality of a prediction $\\hat{y} = h(\\mathbf{x})$ by comparing it to the true label of the data point.\n",
    "\n",
    "\n",
    "- A ML model learns by searching its hypothesis space for the predictor function that minimizes the average loss on the labeled dataset used for training the model."
   ]
  },
  {
   "cell_type": "markdown",
   "metadata": {
    "deletable": false,
    "editable": false,
    "nbgrader": {
     "cell_type": "markdown",
     "checksum": "d3044d13eba8057e28758308ecb0fc4e",
     "grade": false,
     "grade_id": "cell-e1996a1c79357ba9",
     "locked": true,
     "schema_version": 3,
     "solution": false,
     "task": false
    }
   },
   "source": [
    "## Quiz Questions"
   ]
  },
  {
   "cell_type": "markdown",
   "metadata": {
    "deletable": false,
    "editable": false,
    "nbgrader": {
     "cell_type": "markdown",
     "checksum": "9a3436f2a7534de2525010a65d97a410",
     "grade": false,
     "grade_id": "cell-eb7566ae6436fcd9",
     "locked": true,
     "schema_version": 3,
     "solution": false,
     "task": false
    }
   },
   "source": [
    "<a id='QuestionR1_1'></a>\n",
    "<div class=\" alert alert-warning\">\n",
    "    <b>Student Task.</b> Question R1.1. \n",
    "\n",
    "Assume you want to classify pictures into three categories (or classes) \"Dogs\", \"Birds\" and \"Fish\". Which of the following option could be used to formalize the application as a machine learning problem.\n",
    "\n",
    "<ol>\n",
    "  <li>Data points are pictures of Animals. Features are [Dog, Bird, Fish].  Labels are number of legs, number of wings, number of fins.</li>\n",
    "  <li>Data points are pictures of Animals. Features are number of legs, number of wings, number of fins. Labels are [Dog, Bird, Fish].</li>\n",
    "  <li>Data points are number of legs, number of wings, number of fins.  Features are pictures of animal habitat (forest, sea, sky). Labels are [Dog, Bird, Fish].</li>\n",
    "</ol> \n",
    "\n",
    "</div>"
   ]
  },
  {
   "cell_type": "code",
   "execution_count": 108,
   "metadata": {
    "deletable": false,
    "nbgrader": {
     "cell_type": "code",
     "checksum": "df84e9c85abfc0cec15b0d2665528276",
     "grade": false,
     "grade_id": "cell-8d3697436e9ac186",
     "locked": false,
     "schema_version": 3,
     "solution": true,
     "task": false
    }
   },
   "outputs": [],
   "source": [
    "### STUDENT TASK ###\n",
    "# remove the line raise NotImplementedError() before testing your solution and submitting code\n",
    "answer_R1_Q1  = 2\n",
    "\n",
    "# YOUR CODE HERE\n",
    "#raise NotImplementedError()"
   ]
  },
  {
   "cell_type": "code",
   "execution_count": null,
   "metadata": {
    "deletable": false,
    "editable": false,
    "nbgrader": {
     "cell_type": "code",
     "checksum": "339248e124881b4b93ffaae6f5028bc8",
     "grade": true,
     "grade_id": "cell-034b1269892dd44f",
     "locked": true,
     "points": 1,
     "schema_version": 3,
     "solution": false,
     "task": false
    }
   },
   "outputs": [],
   "source": [
    "# This cell is for tests\n",
    "\n",
    "assert answer_R1_Q1 in [1,2,3], '\"answer_R1_Q1\" Value should be an integer between 1 and 3.'\n",
    "print('Sanity check tests passed!')\n"
   ]
  },
  {
   "cell_type": "markdown",
   "metadata": {
    "deletable": false,
    "editable": false,
    "nbgrader": {
     "cell_type": "markdown",
     "checksum": "c8d6501560648fe12638776884034699",
     "grade": false,
     "grade_id": "cell-94ea2cfd41b34b34",
     "locked": true,
     "schema_version": 3,
     "solution": false,
     "task": false
    }
   },
   "source": [
    "<a id='QuestionR1_2'></a>\n",
    "<div class=\" alert alert-warning\">\n",
    "    <b>Student Task.</b> Question R1.2. \n",
    "\n",
    "<p>Consider data points having features $\\mathbf{x}$ and a numeric label $y$. How can the quality of a predictor function $h(\\mathbf{x})$, which delivers a predicted label $\\hat{y}=h(\\mathbf{x})$ be measured to choose the best predictor function?</p>\n",
    "\n",
    "\n",
    "<ol>\n",
    "  <li>Use the difference between our predicted value $\\hat{y}$ and true label $y$, i.e: $y - \\hat{y}$ and pick the predictor function with the lowest value of loss.</li>\n",
    "  <li>Use the squared error loss $(y - \\hat{y} )^{2}$ and pick the predictor function with the highest value of squared error loss.</li>\n",
    "  <li>Use the squared error loss $(x - \\hat{x})^{2}$ and pick the predictor function with the lowest value of squared error loss.</li>\n",
    "  <li>Use the squared error loss $(y - \\hat{y})^{2}$ and pick the predictor function with the lowest value of the squared error loss.</li>\n",
    "</ol> \n",
    "\n",
    "</div>"
   ]
  },
  {
   "cell_type": "code",
   "execution_count": 110,
   "metadata": {
    "deletable": false,
    "nbgrader": {
     "cell_type": "code",
     "checksum": "76472f9edd4abeed083ca1c33ae9e0f2",
     "grade": false,
     "grade_id": "cell-9d7c8ceec6378fdf",
     "locked": false,
     "schema_version": 3,
     "solution": true,
     "task": false
    }
   },
   "outputs": [],
   "source": [
    "### STUDENT TASK ###\n",
    "# remove the line raise NotImplementedError() before testing your solution and submitting code\n",
    "answer_R1_Q2  = 4\n",
    "\n",
    "# YOUR CODE HERE\n",
    "#raise NotImplementedError()"
   ]
  },
  {
   "cell_type": "code",
   "execution_count": 111,
   "metadata": {
    "deletable": false,
    "editable": false,
    "nbgrader": {
     "cell_type": "code",
     "checksum": "a12bb706bf8e7de3da7c56734ee2dd8a",
     "grade": true,
     "grade_id": "cell-76246b195459d63c",
     "locked": true,
     "points": 1,
     "schema_version": 3,
     "solution": false,
     "task": false
    }
   },
   "outputs": [
    {
     "name": "stdout",
     "output_type": "stream",
     "text": [
      "Sanity check tests passed!\n"
     ]
    }
   ],
   "source": [
    "# This cell is for tests\n",
    "\n",
    "assert answer_R1_Q2 in [1,2,3,4], '\"answer_R1_Q2\" Value should be an integer between 1 and 4.'\n",
    "print('Sanity check tests passed!')\n"
   ]
  },
  {
   "cell_type": "markdown",
   "metadata": {
    "deletable": false,
    "editable": false,
    "nbgrader": {
     "cell_type": "markdown",
     "checksum": "d710e7d8c477e3177aeec7b7338925cc",
     "grade": false,
     "grade_id": "cell-d9ddc0fa2cdba71e",
     "locked": true,
     "schema_version": 3,
     "solution": false,
     "task": false
    }
   },
   "source": [
    "<a id='QuestionR1_3'></a>\n",
    "<div class=\" alert alert-warning\">\n",
    "    <b>Student Task.</b> Question R1.3. \n",
    "\n",
    "<p> Consider a set of $m=3$ data points represented by the feature vectors $\\mathbf{x}^{(1)}=\\big(1,0,0,0\\big)^{T}$, $\\mathbf{x}^{(2)}=\\big(1,0,1,0\\big)^{T}$ and $\\mathbf{x}^{(3)}=\\big(1,0,-1,0\\big)^{T}$. What is $x^{(2)}_{3}$ ? </p>\n",
    "\n",
    "<ol>\n",
    "  <li>1 </li>\n",
    "  <li>0</li>\n",
    "  <li>-1</li>\n",
    "</ol> \n",
    "\n",
    "</div>"
   ]
  },
  {
   "cell_type": "code",
   "execution_count": 114,
   "metadata": {
    "deletable": false,
    "nbgrader": {
     "cell_type": "code",
     "checksum": "21e36b09631dbbb13c6cb952c61922da",
     "grade": false,
     "grade_id": "cell-8c1c53cea1abc31d",
     "locked": false,
     "schema_version": 3,
     "solution": true,
     "task": false
    }
   },
   "outputs": [],
   "source": [
    "# STUDENT TASK ###\n",
    "# remove the line raise NotImplementedError() before testing your solution and submitting code\n",
    "answer_R1_Q3  = 1\n",
    "\n",
    "#raise NotImplementedError()"
   ]
  },
  {
   "cell_type": "code",
   "execution_count": 115,
   "metadata": {
    "deletable": false,
    "editable": false,
    "nbgrader": {
     "cell_type": "code",
     "checksum": "e948ba8fde879e8b9f12e53e849e7b33",
     "grade": true,
     "grade_id": "cell-69d3ab5e4fb16506",
     "locked": true,
     "points": 1,
     "schema_version": 3,
     "solution": false,
     "task": false
    }
   },
   "outputs": [
    {
     "name": "stdout",
     "output_type": "stream",
     "text": [
      "Sanity check tests passed!\n"
     ]
    }
   ],
   "source": [
    "# This cell is for tests\n",
    "\n",
    "assert answer_R1_Q3 in [1,2,3], '\"answer_R1_Q3\" Value should be an integer between 1 and 3.'\n",
    "print('Sanity check tests passed!')\n"
   ]
  },
  {
   "cell_type": "code",
   "execution_count": null,
   "metadata": {},
   "outputs": [],
   "source": []
  }
 ],
 "metadata": {
  "kernelspec": {
   "display_name": "Python 3",
   "language": "python",
   "name": "python3"
  },
  "language_info": {
   "codemirror_mode": {
    "name": "ipython",
    "version": 3
   },
   "file_extension": ".py",
   "mimetype": "text/x-python",
   "name": "python",
   "nbconvert_exporter": "python",
   "pygments_lexer": "ipython3",
   "version": "3.7.3"
  },
  "toc": {
   "base_numbering": 1,
   "nav_menu": {},
   "number_sections": false,
   "sideBar": true,
   "skip_h1_title": false,
   "title_cell": "Table of Contents",
   "title_sidebar": "Contents",
   "toc_cell": false,
   "toc_position": {
    "height": "calc(100% - 180px)",
    "left": "10px",
    "top": "150px",
    "width": "304.8px"
   },
   "toc_section_display": true,
   "toc_window_display": false
  },
  "varInspector": {
   "cols": {
    "lenName": 16,
    "lenType": 16,
    "lenVar": 40
   },
   "kernels_config": {
    "python": {
     "delete_cmd_postfix": "",
     "delete_cmd_prefix": "del ",
     "library": "var_list.py",
     "varRefreshCmd": "print(var_dic_list())"
    },
    "r": {
     "delete_cmd_postfix": ") ",
     "delete_cmd_prefix": "rm(",
     "library": "var_list.r",
     "varRefreshCmd": "cat(var_dic_list()) "
    }
   },
   "types_to_exclude": [
    "module",
    "function",
    "builtin_function_or_method",
    "instance",
    "_Feature"
   ],
   "window_display": false
  }
 },
 "nbformat": 4,
 "nbformat_minor": 2
}
